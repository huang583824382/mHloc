{
 "cells": [
  {
   "cell_type": "code",
   "execution_count": 12,
   "metadata": {},
   "outputs": [
    {
     "data": {
      "text/plain": [
       "<KeysViewHDF5 ['global_descriptor', 'image_size']>"
      ]
     },
     "execution_count": 12,
     "metadata": {},
     "output_type": "execute_result"
    }
   ],
   "source": [
    "import h5py  #导入工具包\n",
    "f = h5py.File('outputs/sfm/global-feats-netvlad.h5','r')   #打开h5文件\n",
    "f['P1180141.JPG'].keys()"
   ]
  },
  {
   "cell_type": "code",
   "execution_count": 3,
   "metadata": {},
   "outputs": [
    {
     "name": "stdout",
     "output_type": "stream",
     "text": [
      "<KeysViewHDF5 ['0118.jpeg', 'IMG_20230117_130149.jpg', 'IMG_20230117_130153.jpg', 'mapping3540.jpg']>\n"
     ]
    }
   ],
   "source": [
    "import h5py  #导入工具包\n",
    "f = h5py.File('outputs/0202/query_matches.h5','r')   #打开h5文件\n",
    "# f['00132321090555753820.jpg'].keys()\n",
    "print(f.keys())\n",
    "f.close()\n"
   ]
  },
  {
   "cell_type": "code",
   "execution_count": 1,
   "metadata": {},
   "outputs": [],
   "source": [
    "import cv2\n",
    "capture = cv2.VideoCapture(\"/home/unicorn/Downloads/VID_20230202_124648.mp4\")\n",
    "\n",
    "time = 1 # 1s/pic\n",
    "name = 1\n",
    "if(capture.isOpened()):\n",
    "    i=0;\n",
    "    while True:\n",
    "        ret, prev = capture.read()\n",
    "        if ret == True :\n",
    "            if(i%int(30*time)==0):\n",
    "                # cv2.imshow('video', prev)\n",
    "                cv2.imwrite('/home/unicorn/project/Hierarchical-Localization/datasets/shuba-spare/mapping/'+str(name)+'.jpg', prev);\n",
    "                name = name+1\n",
    "        else:\n",
    "            break\n",
    "        # if cv2.waitKey(20)==27:\n",
    "        #     break\n",
    "        i=i+1\n",
    "cv2.destroyAllWindows()"
   ]
  },
  {
   "cell_type": "code",
   "execution_count": 1,
   "metadata": {},
   "outputs": [],
   "source": [
    "import cv2\n",
    "from pathlib import Path\n",
    "import os\n",
    "\n",
    "dir = Path('datasets/My_lib_dataset/mapping4')\n",
    "\n",
    "references = [p.relative_to(dir).as_posix() for p in (dir).iterdir()]\n",
    "for image in references:\n",
    "\n",
    "    img = cv2.imread(str(dir/image))\n",
    "    img1 = cv2.resize(img, (600, 800))\n",
    "    os.remove(dir/image)\n",
    "    cv2.imwrite(str(dir/image), img1)\n",
    "\n",
    "# cv2.imshow(\"test\", img1)\n",
    "# cv2.imshow(\"origin\", img)\n",
    "# print(img.shape)\n",
    "# cv2.waitKey()\n",
    "\n"
   ]
  },
  {
   "cell_type": "code",
   "execution_count": null,
   "metadata": {},
   "outputs": [],
   "source": []
  }
 ],
 "metadata": {
  "kernelspec": {
   "display_name": "pytorch1131",
   "language": "python",
   "name": "python3"
  },
  "language_info": {
   "codemirror_mode": {
    "name": "ipython",
    "version": 3
   },
   "file_extension": ".py",
   "mimetype": "text/x-python",
   "name": "python",
   "nbconvert_exporter": "python",
   "pygments_lexer": "ipython3",
   "version": "3.9.15"
  },
  "orig_nbformat": 4,
  "vscode": {
   "interpreter": {
    "hash": "aa7f2979c338ffe6014e21deb3f537591b056a33731bcfc5e6f78a527ee4246f"
   }
  }
 },
 "nbformat": 4,
 "nbformat_minor": 2
}
